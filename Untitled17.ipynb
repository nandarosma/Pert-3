{
  "nbformat": 4,
  "nbformat_minor": 0,
  "metadata": {
    "colab": {
      "provenance": [],
      "authorship_tag": "ABX9TyP7DF206m/ncBkkYtuLO+rJ",
      "include_colab_link": true
    },
    "kernelspec": {
      "name": "python3",
      "display_name": "Python 3"
    },
    "language_info": {
      "name": "python"
    }
  },
  "cells": [
    {
      "cell_type": "markdown",
      "metadata": {
        "id": "view-in-github",
        "colab_type": "text"
      },
      "source": [
        "<a href=\"https://colab.research.google.com/github/nandarosma/Pert-3/blob/main/Untitled17.ipynb\" target=\"_parent\"><img src=\"https://colab.research.google.com/assets/colab-badge.svg\" alt=\"Open In Colab\"/></a>"
      ]
    },
    {
      "cell_type": "code",
      "execution_count": 1,
      "metadata": {
        "colab": {
          "base_uri": "https://localhost:8080/"
        },
        "id": "ub14vicUV1PH",
        "outputId": "bae560b5-5652-4c75-cffa-4894a43b01d1"
      },
      "outputs": [
        {
          "output_type": "stream",
          "name": "stdout",
          "text": [
            "Requirement already satisfied: nltk in /usr/local/lib/python3.10/dist-packages (3.8.1)\n",
            "Collecting Sastrawi\n",
            "  Downloading Sastrawi-1.0.1-py2.py3-none-any.whl.metadata (909 bytes)\n",
            "Collecting PyPDF2\n",
            "  Downloading pypdf2-3.0.1-py3-none-any.whl.metadata (6.8 kB)\n",
            "Requirement already satisfied: click in /usr/local/lib/python3.10/dist-packages (from nltk) (8.1.7)\n",
            "Requirement already satisfied: joblib in /usr/local/lib/python3.10/dist-packages (from nltk) (1.4.2)\n",
            "Requirement already satisfied: regex>=2021.8.3 in /usr/local/lib/python3.10/dist-packages (from nltk) (2024.9.11)\n",
            "Requirement already satisfied: tqdm in /usr/local/lib/python3.10/dist-packages (from nltk) (4.66.5)\n",
            "Downloading Sastrawi-1.0.1-py2.py3-none-any.whl (209 kB)\n",
            "\u001b[2K   \u001b[90m━━━━━━━━━━━━━━━━━━━━━━━━━━━━━━━━━━━━━━━━\u001b[0m \u001b[32m209.7/209.7 kB\u001b[0m \u001b[31m2.4 MB/s\u001b[0m eta \u001b[36m0:00:00\u001b[0m\n",
            "\u001b[?25hDownloading pypdf2-3.0.1-py3-none-any.whl (232 kB)\n",
            "\u001b[2K   \u001b[90m━━━━━━━━━━━━━━━━━━━━━━━━━━━━━━━━━━━━━━━━\u001b[0m \u001b[32m232.6/232.6 kB\u001b[0m \u001b[31m12.0 MB/s\u001b[0m eta \u001b[36m0:00:00\u001b[0m\n",
            "\u001b[?25hInstalling collected packages: Sastrawi, PyPDF2\n",
            "Successfully installed PyPDF2-3.0.1 Sastrawi-1.0.1\n"
          ]
        }
      ],
      "source": [
        "!pip install nltk Sastrawi PyPDF2"
      ]
    },
    {
      "cell_type": "code",
      "source": [
        "from google.colab import files\n",
        "uploaded = files.upload()\n",
        "\n",
        "import PyPDF2\n",
        "\n",
        "file_path = next(iter(uploaded))\n",
        "with open(file_path, 'rb') as file:\n",
        "    reader = PyPDF2.PdfReader(file)\n",
        "    text = ''\n",
        "    for page in reader.pages:\n",
        "        text += page.extract_text()\n",
        "\n",
        "print(text)"
      ],
      "metadata": {
        "colab": {
          "base_uri": "https://localhost:8080/",
          "height": 698
        },
        "id": "K-KZS094WGPy",
        "outputId": "67acce25-a0ec-4811-cd87-485b9015b083"
      },
      "execution_count": 2,
      "outputs": [
        {
          "output_type": "display_data",
          "data": {
            "text/plain": [
              "<IPython.core.display.HTML object>"
            ],
            "text/html": [
              "\n",
              "     <input type=\"file\" id=\"files-39654cd7-dbd4-485a-aca9-3368ce218695\" name=\"files[]\" multiple disabled\n",
              "        style=\"border:none\" />\n",
              "     <output id=\"result-39654cd7-dbd4-485a-aca9-3368ce218695\">\n",
              "      Upload widget is only available when the cell has been executed in the\n",
              "      current browser session. Please rerun this cell to enable.\n",
              "      </output>\n",
              "      <script>// Copyright 2017 Google LLC\n",
              "//\n",
              "// Licensed under the Apache License, Version 2.0 (the \"License\");\n",
              "// you may not use this file except in compliance with the License.\n",
              "// You may obtain a copy of the License at\n",
              "//\n",
              "//      http://www.apache.org/licenses/LICENSE-2.0\n",
              "//\n",
              "// Unless required by applicable law or agreed to in writing, software\n",
              "// distributed under the License is distributed on an \"AS IS\" BASIS,\n",
              "// WITHOUT WARRANTIES OR CONDITIONS OF ANY KIND, either express or implied.\n",
              "// See the License for the specific language governing permissions and\n",
              "// limitations under the License.\n",
              "\n",
              "/**\n",
              " * @fileoverview Helpers for google.colab Python module.\n",
              " */\n",
              "(function(scope) {\n",
              "function span(text, styleAttributes = {}) {\n",
              "  const element = document.createElement('span');\n",
              "  element.textContent = text;\n",
              "  for (const key of Object.keys(styleAttributes)) {\n",
              "    element.style[key] = styleAttributes[key];\n",
              "  }\n",
              "  return element;\n",
              "}\n",
              "\n",
              "// Max number of bytes which will be uploaded at a time.\n",
              "const MAX_PAYLOAD_SIZE = 100 * 1024;\n",
              "\n",
              "function _uploadFiles(inputId, outputId) {\n",
              "  const steps = uploadFilesStep(inputId, outputId);\n",
              "  const outputElement = document.getElementById(outputId);\n",
              "  // Cache steps on the outputElement to make it available for the next call\n",
              "  // to uploadFilesContinue from Python.\n",
              "  outputElement.steps = steps;\n",
              "\n",
              "  return _uploadFilesContinue(outputId);\n",
              "}\n",
              "\n",
              "// This is roughly an async generator (not supported in the browser yet),\n",
              "// where there are multiple asynchronous steps and the Python side is going\n",
              "// to poll for completion of each step.\n",
              "// This uses a Promise to block the python side on completion of each step,\n",
              "// then passes the result of the previous step as the input to the next step.\n",
              "function _uploadFilesContinue(outputId) {\n",
              "  const outputElement = document.getElementById(outputId);\n",
              "  const steps = outputElement.steps;\n",
              "\n",
              "  const next = steps.next(outputElement.lastPromiseValue);\n",
              "  return Promise.resolve(next.value.promise).then((value) => {\n",
              "    // Cache the last promise value to make it available to the next\n",
              "    // step of the generator.\n",
              "    outputElement.lastPromiseValue = value;\n",
              "    return next.value.response;\n",
              "  });\n",
              "}\n",
              "\n",
              "/**\n",
              " * Generator function which is called between each async step of the upload\n",
              " * process.\n",
              " * @param {string} inputId Element ID of the input file picker element.\n",
              " * @param {string} outputId Element ID of the output display.\n",
              " * @return {!Iterable<!Object>} Iterable of next steps.\n",
              " */\n",
              "function* uploadFilesStep(inputId, outputId) {\n",
              "  const inputElement = document.getElementById(inputId);\n",
              "  inputElement.disabled = false;\n",
              "\n",
              "  const outputElement = document.getElementById(outputId);\n",
              "  outputElement.innerHTML = '';\n",
              "\n",
              "  const pickedPromise = new Promise((resolve) => {\n",
              "    inputElement.addEventListener('change', (e) => {\n",
              "      resolve(e.target.files);\n",
              "    });\n",
              "  });\n",
              "\n",
              "  const cancel = document.createElement('button');\n",
              "  inputElement.parentElement.appendChild(cancel);\n",
              "  cancel.textContent = 'Cancel upload';\n",
              "  const cancelPromise = new Promise((resolve) => {\n",
              "    cancel.onclick = () => {\n",
              "      resolve(null);\n",
              "    };\n",
              "  });\n",
              "\n",
              "  // Wait for the user to pick the files.\n",
              "  const files = yield {\n",
              "    promise: Promise.race([pickedPromise, cancelPromise]),\n",
              "    response: {\n",
              "      action: 'starting',\n",
              "    }\n",
              "  };\n",
              "\n",
              "  cancel.remove();\n",
              "\n",
              "  // Disable the input element since further picks are not allowed.\n",
              "  inputElement.disabled = true;\n",
              "\n",
              "  if (!files) {\n",
              "    return {\n",
              "      response: {\n",
              "        action: 'complete',\n",
              "      }\n",
              "    };\n",
              "  }\n",
              "\n",
              "  for (const file of files) {\n",
              "    const li = document.createElement('li');\n",
              "    li.append(span(file.name, {fontWeight: 'bold'}));\n",
              "    li.append(span(\n",
              "        `(${file.type || 'n/a'}) - ${file.size} bytes, ` +\n",
              "        `last modified: ${\n",
              "            file.lastModifiedDate ? file.lastModifiedDate.toLocaleDateString() :\n",
              "                                    'n/a'} - `));\n",
              "    const percent = span('0% done');\n",
              "    li.appendChild(percent);\n",
              "\n",
              "    outputElement.appendChild(li);\n",
              "\n",
              "    const fileDataPromise = new Promise((resolve) => {\n",
              "      const reader = new FileReader();\n",
              "      reader.onload = (e) => {\n",
              "        resolve(e.target.result);\n",
              "      };\n",
              "      reader.readAsArrayBuffer(file);\n",
              "    });\n",
              "    // Wait for the data to be ready.\n",
              "    let fileData = yield {\n",
              "      promise: fileDataPromise,\n",
              "      response: {\n",
              "        action: 'continue',\n",
              "      }\n",
              "    };\n",
              "\n",
              "    // Use a chunked sending to avoid message size limits. See b/62115660.\n",
              "    let position = 0;\n",
              "    do {\n",
              "      const length = Math.min(fileData.byteLength - position, MAX_PAYLOAD_SIZE);\n",
              "      const chunk = new Uint8Array(fileData, position, length);\n",
              "      position += length;\n",
              "\n",
              "      const base64 = btoa(String.fromCharCode.apply(null, chunk));\n",
              "      yield {\n",
              "        response: {\n",
              "          action: 'append',\n",
              "          file: file.name,\n",
              "          data: base64,\n",
              "        },\n",
              "      };\n",
              "\n",
              "      let percentDone = fileData.byteLength === 0 ?\n",
              "          100 :\n",
              "          Math.round((position / fileData.byteLength) * 100);\n",
              "      percent.textContent = `${percentDone}% done`;\n",
              "\n",
              "    } while (position < fileData.byteLength);\n",
              "  }\n",
              "\n",
              "  // All done.\n",
              "  yield {\n",
              "    response: {\n",
              "      action: 'complete',\n",
              "    }\n",
              "  };\n",
              "}\n",
              "\n",
              "scope.google = scope.google || {};\n",
              "scope.google.colab = scope.google.colab || {};\n",
              "scope.google.colab._files = {\n",
              "  _uploadFiles,\n",
              "  _uploadFilesContinue,\n",
              "};\n",
              "})(self);\n",
              "</script> "
            ]
          },
          "metadata": {}
        },
        {
          "output_type": "stream",
          "name": "stdout",
          "text": [
            "Saving nlp.pdf to nlp (1).pdf\n",
            "Preferensi kualitas video seharusnya ada pilihan resolusi, seperti SD 360p HD 720p FHD 1080p \n",
            "dan seterusnya.. jangan di optimalkan sesuai jaringan (automatis). Untuk beberapa pengguna \n",
            "resolusi 720p sudah cukup memadai. Dulu awal² di aplikasi Youtube, pilih an resolusi ini ada.. tapi \n",
            "setelahnya diganti dengan serba automatis.. yg seringnya dapat di resolusi 360p (automatis yg \n",
            "disarankan) tapi gambar nyaris buram dan mengganggu.. di setting ke resolusi tinggi dapatnya \n",
            "video 1080p boros kuota data  \n",
            "Produk google sekarang jelek banget,misalnya seperti aplikasi keep/catatan google yang sekarang \n",
            "susah dibuka, kadang ngblank, dan kadang gak bisa dihapus meski pun udah dihapus, tapi muncul \n",
            "lagi. Lalu youtube gak bisa munculin papan ketik untuk komentar video short, lalu musik mp3 \n",
            "yang lagunya gak bisa dibuka, kadang lagunya juga kadang ilang, nanti muncul lagi.  \n",
            "Ingin memberi info adanya bug di youtube handphone. bug muncul setelah iklan selesai, bugnya \n",
            "adalah 1. terkadang video mengecil, tidak full screen (padahal posisi landscape). 2. kualitas video \n",
            "menurun  menjadi 480p dan ngestuck disana trus. semua bug ini terjadi setelah iklan selesai. mohon \n",
            "perbaikannya ataupun update terbaru 🙏 \n",
            "Pengalaman baru ada bug di fitur playlist. Dulu kalo simpan video ke playlist langsung \n",
            "terdownload otomatis. Karena ada bug, pas simpan video ke playlist malah gak terdownload. Pas \n",
            "video di playlist dihapus, jumlah tertulis gak berubah.  \n",
            "Permisi saya hanya mau tanya kenapa ya YouTube saya gak bisa kebuka videonya cuman loading \n",
            "terus?padahal saya baru ingat kalau ada update jadi saya lupa mengupdate YouTube kok malah \n",
            "gak bisa?padahal udah saya update dan juga aplikasinya bug sama lah Mulu mau nonton eh lag \n",
            "gak jelas kalau iklan dikurangin bisa?soalnya ganggu padahal lagi enaknya nonton videonya eh \n",
            "malah iklan padahal lagi serius eh malah iklan tolong perbaiki ini youtubeny a saya gak bisa upload \n",
            "video sama aplikasi yang lain pada  \n",
            "FYI bagus -bagus aja, tapi mungkin ada sedikit yang buat aku kesal; kadang saat iklan biasanya \n",
            "sangat lama, dan tidak bisa di skip. Pernah juga iklannya lebih 30 detik, gak bisa di skip, dan juga \n",
            "muncul 3 iklan. Itu saja yang bisa di sampaikan, selain itu s emuanya baik -baik aja. -Maaf bertele -\n",
            "tele, soalnya gak terlalu bisa menjelaskan sesuatu.  \n",
            "Hay YT, koleksi musikmu untuk pengganti musik dan lagu yang termone tisasi hak cipta tidak \n",
            "gaul, jelek sekali rekomendasi musik yang akan menggantikan musik awal, bisa ditambah dengan \n",
            "musik -musik yang lagi trending gak si. Musik ngebit atau slowrock yang luas jangkauannya. Ini \n",
            "musiknya tua semua. Tidak uptodate koleksianny a. \n",
            "Ini masalah bikin sebel sih. Masa mau baca deskripsi tulisannya hitam ( Pada mode gelap ) udah \n",
            "latar belakangnya hitam tulisannya hitam pula, teru s mau baca gimana. Untuk selengkapnya sih \n",
            "bagus aplikasi YouTube ini , UI nya baru dan mudah buat digunakan. Tolong ya untuk kedepannya \n",
            "dibenahi bug ini.  \n",
            " \n"
          ]
        }
      ]
    },
    {
      "cell_type": "code",
      "source": [
        "import nltk\n",
        "from nltk.corpus import stopwords\n",
        "from Sastrawi.StopWordRemover.StopWordRemoverFactory import StopWordRemoverFactory\n",
        "\n",
        "nltk.download('stopwords')\n",
        "nltk.download('punkt')\n",
        "nltk_stopwords = set(stopwords.words('indonesian'))\n",
        "sastrawi_factory = StopWordRemoverFactory()\n",
        "sastrawi_stopwords = set(sastrawi_factory.get_stop_words())\n",
        "\n",
        "combined_stopwords = nltk_stopwords.union(sastrawi_stopwords)\n",
        "\n",
        "from nltk.tokenize import word_tokenize\n",
        "tokens = word_tokenize(text)\n",
        "\n",
        "filtered_tokens = [word for word in tokens if word.lower() not in combined_stopwords]\n",
        "\n",
        "filtered_text = ' '.join(filtered_tokens)\n",
        "print(filtered_text)"
      ],
      "metadata": {
        "colab": {
          "base_uri": "https://localhost:8080/"
        },
        "id": "H3NaficcWPR0",
        "outputId": "3d05b0a8-3c5e-4d2a-958e-994174c5cfe4"
      },
      "execution_count": 3,
      "outputs": [
        {
          "output_type": "stream",
          "name": "stderr",
          "text": [
            "[nltk_data] Downloading package stopwords to /root/nltk_data...\n",
            "[nltk_data]   Unzipping corpora/stopwords.zip.\n",
            "[nltk_data] Downloading package punkt to /root/nltk_data...\n",
            "[nltk_data]   Unzipping tokenizers/punkt.zip.\n"
          ]
        },
        {
          "output_type": "stream",
          "name": "stdout",
          "text": [
            "Preferensi kualitas video pilihan resolusi , SD 360p HD 720p FHD 1080p .. optimalkan sesuai jaringan ( automatis ) . pengguna resolusi 720p memadai . awal² aplikasi Youtube , pilih an resolusi .. setelahnya diganti serba automatis .. yg resolusi 360p ( automatis yg disarankan ) gambar buram mengganggu .. setting resolusi dapatnya video 1080p boros kuota data Produk google jelek banget , aplikasi keep/catatan google susah dibuka , kadang ngblank , kadang gak dihapus udah dihapus , muncul . youtube gak munculin papan ketik komentar video short , musik mp3 lagunya gak dibuka , kadang lagunya kadang ilang , muncul . info bug youtube handphone . bug muncul iklan selesai , bugnya 1. terkadang video mengecil , full screen ( posisi landscape ) . 2. kualitas video menurun 480p ngestuck disana trus . bug iklan selesai . mohon perbaikannya update terbaru 🙏 Pengalaman bug fitur playlist . kalo simpan video playlist langsung terdownload otomatis . bug , pas simpan video playlist gak terdownload . Pas video playlist dihapus , tertulis gak berubah . Permisi YouTube gak kebuka videonya cuman loading ? update lupa mengupdate YouTube gak ? udah update aplikasinya bug Mulu nonton eh lag gak iklan dikurangin ? ganggu enaknya nonton videonya eh iklan serius eh iklan perbaiki youtubeny a gak upload video aplikasi FYI bagus -bagus aja , kesal ; kadang iklan , skip . iklannya 30 detik , gak skip , muncul 3 iklan . , s emuanya -baik aja . -Maaf bertele - tele , gak . Hay YT , koleksi musikmu pengganti musik lagu termone tisasi hak cipta gaul , jelek rekomendasi musik menggantikan musik , ditambah musik -musik trending gak si . Musik ngebit slowrock luas jangkauannya . musiknya tua . uptodate koleksianny a. bikin sebel sih . baca deskripsi tulisannya hitam ( mode gelap ) udah latar belakangnya hitam tulisannya hitam , teru s baca gimana . selengkapnya sih bagus aplikasi YouTube , UI nya mudah . kedepannya dibenahi bug .\n"
          ]
        }
      ]
    },
    {
      "cell_type": "code",
      "source": [
        "with open('filtered_comments.txt', 'w') as f:\n",
        "    f.write(filtered_text)\n",
        "\n",
        "files.download('filtered_comments.txt')"
      ],
      "metadata": {
        "colab": {
          "base_uri": "https://localhost:8080/",
          "height": 17
        },
        "id": "17ntgyM6Wf2O",
        "outputId": "0f096b23-83a4-4371-8c4c-7f5c259853bd"
      },
      "execution_count": 4,
      "outputs": [
        {
          "output_type": "display_data",
          "data": {
            "text/plain": [
              "<IPython.core.display.Javascript object>"
            ],
            "application/javascript": [
              "\n",
              "    async function download(id, filename, size) {\n",
              "      if (!google.colab.kernel.accessAllowed) {\n",
              "        return;\n",
              "      }\n",
              "      const div = document.createElement('div');\n",
              "      const label = document.createElement('label');\n",
              "      label.textContent = `Downloading \"${filename}\": `;\n",
              "      div.appendChild(label);\n",
              "      const progress = document.createElement('progress');\n",
              "      progress.max = size;\n",
              "      div.appendChild(progress);\n",
              "      document.body.appendChild(div);\n",
              "\n",
              "      const buffers = [];\n",
              "      let downloaded = 0;\n",
              "\n",
              "      const channel = await google.colab.kernel.comms.open(id);\n",
              "      // Send a message to notify the kernel that we're ready.\n",
              "      channel.send({})\n",
              "\n",
              "      for await (const message of channel.messages) {\n",
              "        // Send a message to notify the kernel that we're ready.\n",
              "        channel.send({})\n",
              "        if (message.buffers) {\n",
              "          for (const buffer of message.buffers) {\n",
              "            buffers.push(buffer);\n",
              "            downloaded += buffer.byteLength;\n",
              "            progress.value = downloaded;\n",
              "          }\n",
              "        }\n",
              "      }\n",
              "      const blob = new Blob(buffers, {type: 'application/binary'});\n",
              "      const a = document.createElement('a');\n",
              "      a.href = window.URL.createObjectURL(blob);\n",
              "      a.download = filename;\n",
              "      div.appendChild(a);\n",
              "      a.click();\n",
              "      div.remove();\n",
              "    }\n",
              "  "
            ]
          },
          "metadata": {}
        },
        {
          "output_type": "display_data",
          "data": {
            "text/plain": [
              "<IPython.core.display.Javascript object>"
            ],
            "application/javascript": [
              "download(\"download_191065c1-c506-4b54-9a1c-f4d49fe693ec\", \"filtered_comments.txt\", 1931)"
            ]
          },
          "metadata": {}
        }
      ]
    }
  ]
}